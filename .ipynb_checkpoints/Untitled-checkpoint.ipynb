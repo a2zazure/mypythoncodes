{
 "cells": [
  {
   "cell_type": "code",
   "execution_count": 10,
   "metadata": {},
   "outputs": [
    {
     "name": "stdout",
     "output_type": "stream",
     "text": [
      "tell me a sentanceHello Hi hoi how are you\n",
      "letter for sarchh\n",
      "['H', 'e', 'l', 'l', 'o', ' ', 'H', 'i', ' ', 'h', 'o', 'i', ' ', 'h', 'o', 'w', ' ', 'a', 'r', 'e', ' ', 'y', 'o', 'u']\n",
      "2\n"
     ]
    }
   ],
   "source": [
    "a1=input(\"tell me a sentance\").upper()\n",
    "a2=input(\"letter for sarch\").upper()\n",
    "list1=[]\n",
    "list2=[]\n",
    "for item in a1:\n",
    "    list1.append(item)\n",
    "print(a1)\n",
    "for item2 in list1:\n",
    "    if a2==item2:\n",
    "        list2.append(item2)\n",
    "print (len(list2))"
   ]
  },
  {
   "cell_type": "code",
   "execution_count": null,
   "metadata": {},
   "outputs": [],
   "source": []
  }
 ],
 "metadata": {
  "kernelspec": {
   "display_name": "Python 3",
   "language": "python",
   "name": "python3"
  },
  "language_info": {
   "codemirror_mode": {
    "name": "ipython",
    "version": 3
   },
   "file_extension": ".py",
   "mimetype": "text/x-python",
   "name": "python",
   "nbconvert_exporter": "python",
   "pygments_lexer": "ipython3",
   "version": "3.6.8"
  }
 },
 "nbformat": 4,
 "nbformat_minor": 2
}
