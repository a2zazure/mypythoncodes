{
 "cells": [
  {
   "cell_type": "code",
   "execution_count": 12,
   "metadata": {},
   "outputs": [
    {
     "name": "stdout",
     "output_type": "stream",
     "text": [
      "tell me a sentance :hi how are you.*\n",
      "letter for sarch :o\n",
      "HI HOW ARE YOU.*\n",
      "2\n"
     ]
    }
   ],
   "source": [
    "a1=input(\"tell me a sentance :\").upper()\n",
    "a2=input(\"letter for sarch :\").upper()\n",
    "list1=[]\n",
    "list2=[]\n",
    "for item in a1:\n",
    "    list1.append(item)\n",
    "print(a1)\n",
    "for item2 in list1:\n",
    "    if a2==item2:\n",
    "        list2.append(item2)\n",
    "print (len(list2))"
   ]
  },
  {
   "cell_type": "code",
   "execution_count": 14,
   "metadata": {},
   "outputs": [
    {
     "name": "stdout",
     "output_type": "stream",
     "text": [
      "tell me a sentance :Hello Hi h hh\n",
      "letter for sarch :h\n",
      "HELLO HI H HH\n",
      "5\n"
     ]
    }
   ],
   "source": [
    "def wordsearch(a1,a2):\n",
    "    a1=input(\"tell me a sentance :\").upper()\n",
    "    a2=input(\"letter for sarch :\").upper()\n",
    "    list1=[]\n",
    "    list2=[]\n",
    "    for item in a1:\n",
    "        list1.append(item)\n",
    "    print(a1)\n",
    "    for item2 in list1:\n",
    "        if a2==item2:\n",
    "            list2.append(item2)\n",
    "    print (len(list2))\n",
    "wordsearch(a1,a2)"
   ]
  },
  {
   "cell_type": "code",
   "execution_count": 16,
   "metadata": {},
   "outputs": [
    {
     "name": "stdout",
     "output_type": "stream",
     "text": [
      "['This', 'is', 'war']\n"
     ]
    }
   ],
   "source": [
    "tip=\"This is war\"\n",
    "tip_list=tip.split()\n",
    "print (tip_list)\n",
    "list2=[]"
   ]
  },
  {
   "cell_type": "code",
   "execution_count": null,
   "metadata": {},
   "outputs": [],
   "source": []
  }
 ],
 "metadata": {
  "kernelspec": {
   "display_name": "Python 3",
   "language": "python",
   "name": "python3"
  },
  "language_info": {
   "codemirror_mode": {
    "name": "ipython",
    "version": 3
   },
   "file_extension": ".py",
   "mimetype": "text/x-python",
   "name": "python",
   "nbconvert_exporter": "python",
   "pygments_lexer": "ipython3",
   "version": "3.6.8"
  }
 },
 "nbformat": 4,
 "nbformat_minor": 2
}
